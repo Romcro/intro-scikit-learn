{
 "cells": [
  {
   "cell_type": "markdown",
   "metadata": {
    "id": "AiVXisuqQ9lg"
   },
   "source": [
    "# P2C1 : Maîtrisez les étapes de construction d’un modèle prédictif\n",
    "\n",
    "[![Open In Colab](https://colab.research.google.com/assets/colab-badge.svg)](https://colab.research.google.com/github/OpenClassrooms-Student-Center/8063076-Initiez-vous-au-Machine-Learning/blob/master/notebooks/P2C1_%C3%A9tapes_de_construction_modele_predictif.ipynb)\n",
    "\n",
    "Voici un [dataset](https://github.com/OpenClassrooms-Student-Center/8063076-Initiez-vous-au-Machine-Learning/blob/master/data/age_vs_poids_vs_taille_vs_sexe.csv) avec 237 échantillons comprenant l'âge, le sexe, la taille et le poids d'enfants de 11,5 à 20 ans.\n",
    "\n",
    "- l'âge est en mois et non en années, donc de 139 mois a 250 mois soit de 11,5 a 20 ans\n",
    "- la variable sexe est binaire : 0 pour les garçons et 1 pour les filles\n",
    "- la taille en cm varie de 128.27 cm à 182.88 sm\n",
    "- et la variable cible, le poids en Kg, est comprise entre 22.9 kg  et 77.78 kg\n",
    "\n",
    "\n",
    "En quelques lignes, voici comment entraîner un modèle prédictif sur ces données.\n",
    "\n"
   ]
  },
  {
   "cell_type": "code",
   "execution_count": 2,
   "metadata": {
    "id": "M4_QcVExRoZQ"
   },
   "outputs": [],
   "source": [
    "import pandas as pd\n",
    "import numpy as np"
   ]
  },
  {
   "cell_type": "code",
   "execution_count": 3,
   "metadata": {
    "id": "sflgKaB7RqXX"
   },
   "outputs": [],
   "source": [
    "# Charger le dataset dans une dataframe pandas\n",
    "df = pd.read_csv('https://raw.githubusercontent.com/OpenClassrooms-Student-Center/8063076-Initiez-vous-au-Machine-Learning/master/data/age_vs_poids_vs_taille_vs_sexe.csv')"
   ]
  },
  {
   "cell_type": "code",
   "execution_count": 4,
   "metadata": {
    "colab": {
     "base_uri": "https://localhost:8080/",
     "height": 206
    },
    "id": "KU-d-y5zSBCS",
    "outputId": "6bb80004-0ddd-4c82-b20f-df72fd57fcf1"
   },
   "outputs": [
    {
     "data": {
      "text/html": [
       "<div>\n",
       "<style scoped>\n",
       "    .dataframe tbody tr th:only-of-type {\n",
       "        vertical-align: middle;\n",
       "    }\n",
       "\n",
       "    .dataframe tbody tr th {\n",
       "        vertical-align: top;\n",
       "    }\n",
       "\n",
       "    .dataframe thead th {\n",
       "        text-align: right;\n",
       "    }\n",
       "</style>\n",
       "<table border=\"1\" class=\"dataframe\">\n",
       "  <thead>\n",
       "    <tr style=\"text-align: right;\">\n",
       "      <th></th>\n",
       "      <th>sexe</th>\n",
       "      <th>age</th>\n",
       "      <th>taille</th>\n",
       "      <th>poids</th>\n",
       "    </tr>\n",
       "  </thead>\n",
       "  <tbody>\n",
       "    <tr>\n",
       "      <th>0</th>\n",
       "      <td>1</td>\n",
       "      <td>147</td>\n",
       "      <td>151.13</td>\n",
       "      <td>45.80</td>\n",
       "    </tr>\n",
       "    <tr>\n",
       "      <th>1</th>\n",
       "      <td>0</td>\n",
       "      <td>160</td>\n",
       "      <td>150.62</td>\n",
       "      <td>35.60</td>\n",
       "    </tr>\n",
       "    <tr>\n",
       "      <th>2</th>\n",
       "      <td>1</td>\n",
       "      <td>148</td>\n",
       "      <td>149.86</td>\n",
       "      <td>43.08</td>\n",
       "    </tr>\n",
       "    <tr>\n",
       "      <th>3</th>\n",
       "      <td>0</td>\n",
       "      <td>149</td>\n",
       "      <td>144.78</td>\n",
       "      <td>41.72</td>\n",
       "    </tr>\n",
       "    <tr>\n",
       "      <th>4</th>\n",
       "      <td>0</td>\n",
       "      <td>156</td>\n",
       "      <td>156.21</td>\n",
       "      <td>49.21</td>\n",
       "    </tr>\n",
       "  </tbody>\n",
       "</table>\n",
       "</div>"
      ],
      "text/plain": [
       "   sexe  age  taille  poids\n",
       "0     1  147  151.13  45.80\n",
       "1     0  160  150.62  35.60\n",
       "2     1  148  149.86  43.08\n",
       "3     0  149  144.78  41.72\n",
       "4     0  156  156.21  49.21"
      ]
     },
     "execution_count": 4,
     "metadata": {},
     "output_type": "execute_result"
    }
   ],
   "source": [
    "# les 5 premieres lignes de la dataframe\n",
    "df.head()"
   ]
  },
  {
   "cell_type": "code",
   "execution_count": 5,
   "metadata": {
    "colab": {
     "base_uri": "https://localhost:8080/",
     "height": 300
    },
    "id": "orDnAdznSEAO",
    "outputId": "4151df09-eefc-4e8e-8cae-607e7a0db726"
   },
   "outputs": [
    {
     "data": {
      "text/html": [
       "<div>\n",
       "<style scoped>\n",
       "    .dataframe tbody tr th:only-of-type {\n",
       "        vertical-align: middle;\n",
       "    }\n",
       "\n",
       "    .dataframe tbody tr th {\n",
       "        vertical-align: top;\n",
       "    }\n",
       "\n",
       "    .dataframe thead th {\n",
       "        text-align: right;\n",
       "    }\n",
       "</style>\n",
       "<table border=\"1\" class=\"dataframe\">\n",
       "  <thead>\n",
       "    <tr style=\"text-align: right;\">\n",
       "      <th></th>\n",
       "      <th>sexe</th>\n",
       "      <th>age</th>\n",
       "      <th>taille</th>\n",
       "      <th>poids</th>\n",
       "    </tr>\n",
       "  </thead>\n",
       "  <tbody>\n",
       "    <tr>\n",
       "      <th>count</th>\n",
       "      <td>237.000000</td>\n",
       "      <td>237.000000</td>\n",
       "      <td>237.000000</td>\n",
       "      <td>237.000000</td>\n",
       "    </tr>\n",
       "    <tr>\n",
       "      <th>mean</th>\n",
       "      <td>0.468354</td>\n",
       "      <td>164.430380</td>\n",
       "      <td>155.865148</td>\n",
       "      <td>45.944430</td>\n",
       "    </tr>\n",
       "    <tr>\n",
       "      <th>std</th>\n",
       "      <td>0.500054</td>\n",
       "      <td>18.425767</td>\n",
       "      <td>10.021301</td>\n",
       "      <td>8.816557</td>\n",
       "    </tr>\n",
       "    <tr>\n",
       "      <th>min</th>\n",
       "      <td>0.000000</td>\n",
       "      <td>139.000000</td>\n",
       "      <td>128.270000</td>\n",
       "      <td>22.900000</td>\n",
       "    </tr>\n",
       "    <tr>\n",
       "      <th>25%</th>\n",
       "      <td>0.000000</td>\n",
       "      <td>148.000000</td>\n",
       "      <td>149.350000</td>\n",
       "      <td>38.550000</td>\n",
       "    </tr>\n",
       "    <tr>\n",
       "      <th>50%</th>\n",
       "      <td>0.000000</td>\n",
       "      <td>163.000000</td>\n",
       "      <td>156.210000</td>\n",
       "      <td>45.800000</td>\n",
       "    </tr>\n",
       "    <tr>\n",
       "      <th>75%</th>\n",
       "      <td>1.000000</td>\n",
       "      <td>178.000000</td>\n",
       "      <td>163.320000</td>\n",
       "      <td>50.790000</td>\n",
       "    </tr>\n",
       "    <tr>\n",
       "      <th>max</th>\n",
       "      <td>1.000000</td>\n",
       "      <td>250.000000</td>\n",
       "      <td>182.880000</td>\n",
       "      <td>77.780000</td>\n",
       "    </tr>\n",
       "  </tbody>\n",
       "</table>\n",
       "</div>"
      ],
      "text/plain": [
       "             sexe         age      taille       poids\n",
       "count  237.000000  237.000000  237.000000  237.000000\n",
       "mean     0.468354  164.430380  155.865148   45.944430\n",
       "std      0.500054   18.425767   10.021301    8.816557\n",
       "min      0.000000  139.000000  128.270000   22.900000\n",
       "25%      0.000000  148.000000  149.350000   38.550000\n",
       "50%      0.000000  163.000000  156.210000   45.800000\n",
       "75%      1.000000  178.000000  163.320000   50.790000\n",
       "max      1.000000  250.000000  182.880000   77.780000"
      ]
     },
     "execution_count": 5,
     "metadata": {},
     "output_type": "execute_result"
    }
   ],
   "source": [
    "# principales statistiques de la dataframe\n",
    "df.describe()"
   ]
  },
  {
   "cell_type": "markdown",
   "metadata": {},
   "source": [
    "Entrainons une régression linéaire pour prédire le poids en fonction des variables sexe et âge \n",
    "\n",
    "`poids ~ age + sexe`\n",
    "\n",
    "Définissons pour cela `X`, la matrice des variables d'entrées et `y` le vecteur de la variable cible\n"
   ]
  },
  {
   "cell_type": "code",
   "execution_count": 6,
   "metadata": {
    "id": "yeGanyMSRvSP"
   },
   "outputs": [],
   "source": [
    "# les variables prédictives\n",
    "X = df[['sexe', 'age']]\n",
    "\n",
    "# la variable cible, le poids\n",
    "y = df.poids\n"
   ]
  },
  {
   "cell_type": "markdown",
   "metadata": {
    "id": "FsjNtopsSqPB"
   },
   "source": [
    "On choisit le modèle de [regression linéaire](https://scikit-learn.org/stable/modules/generated/sklearn.linear_model.LinearRegression.html#sklearn.linear_model.LinearRegression.score) de scikit-learn.\n",
    "\n",
    "\n",
    "\n"
   ]
  },
  {
   "cell_type": "code",
   "execution_count": 7,
   "metadata": {
    "id": "0n02GSvsRwZj"
   },
   "outputs": [],
   "source": [
    "# Importer et instancier le modèle\n",
    "\n",
    "from sklearn.linear_model import LinearRegression\n",
    "reg = LinearRegression()\n"
   ]
  },
  {
   "cell_type": "markdown",
   "metadata": {
    "id": "e3NbrrdKTCbt"
   },
   "source": [
    "Entraîner le modèle revient à appliquer la methode `fit()` au modèle\n"
   ]
  },
  {
   "cell_type": "code",
   "execution_count": 8,
   "metadata": {
    "colab": {
     "base_uri": "https://localhost:8080/",
     "height": 75
    },
    "id": "I3sX_rYIS8oj",
    "outputId": "38d4d965-abb3-463b-eea0-4d3440ca6693"
   },
   "outputs": [
    {
     "data": {
      "text/html": [
       "<style>#sk-container-id-1 {color: black;background-color: white;}#sk-container-id-1 pre{padding: 0;}#sk-container-id-1 div.sk-toggleable {background-color: white;}#sk-container-id-1 label.sk-toggleable__label {cursor: pointer;display: block;width: 100%;margin-bottom: 0;padding: 0.3em;box-sizing: border-box;text-align: center;}#sk-container-id-1 label.sk-toggleable__label-arrow:before {content: \"▸\";float: left;margin-right: 0.25em;color: #696969;}#sk-container-id-1 label.sk-toggleable__label-arrow:hover:before {color: black;}#sk-container-id-1 div.sk-estimator:hover label.sk-toggleable__label-arrow:before {color: black;}#sk-container-id-1 div.sk-toggleable__content {max-height: 0;max-width: 0;overflow: hidden;text-align: left;background-color: #f0f8ff;}#sk-container-id-1 div.sk-toggleable__content pre {margin: 0.2em;color: black;border-radius: 0.25em;background-color: #f0f8ff;}#sk-container-id-1 input.sk-toggleable__control:checked~div.sk-toggleable__content {max-height: 200px;max-width: 100%;overflow: auto;}#sk-container-id-1 input.sk-toggleable__control:checked~label.sk-toggleable__label-arrow:before {content: \"▾\";}#sk-container-id-1 div.sk-estimator input.sk-toggleable__control:checked~label.sk-toggleable__label {background-color: #d4ebff;}#sk-container-id-1 div.sk-label input.sk-toggleable__control:checked~label.sk-toggleable__label {background-color: #d4ebff;}#sk-container-id-1 input.sk-hidden--visually {border: 0;clip: rect(1px 1px 1px 1px);clip: rect(1px, 1px, 1px, 1px);height: 1px;margin: -1px;overflow: hidden;padding: 0;position: absolute;width: 1px;}#sk-container-id-1 div.sk-estimator {font-family: monospace;background-color: #f0f8ff;border: 1px dotted black;border-radius: 0.25em;box-sizing: border-box;margin-bottom: 0.5em;}#sk-container-id-1 div.sk-estimator:hover {background-color: #d4ebff;}#sk-container-id-1 div.sk-parallel-item::after {content: \"\";width: 100%;border-bottom: 1px solid gray;flex-grow: 1;}#sk-container-id-1 div.sk-label:hover label.sk-toggleable__label {background-color: #d4ebff;}#sk-container-id-1 div.sk-serial::before {content: \"\";position: absolute;border-left: 1px solid gray;box-sizing: border-box;top: 0;bottom: 0;left: 50%;z-index: 0;}#sk-container-id-1 div.sk-serial {display: flex;flex-direction: column;align-items: center;background-color: white;padding-right: 0.2em;padding-left: 0.2em;position: relative;}#sk-container-id-1 div.sk-item {position: relative;z-index: 1;}#sk-container-id-1 div.sk-parallel {display: flex;align-items: stretch;justify-content: center;background-color: white;position: relative;}#sk-container-id-1 div.sk-item::before, #sk-container-id-1 div.sk-parallel-item::before {content: \"\";position: absolute;border-left: 1px solid gray;box-sizing: border-box;top: 0;bottom: 0;left: 50%;z-index: -1;}#sk-container-id-1 div.sk-parallel-item {display: flex;flex-direction: column;z-index: 1;position: relative;background-color: white;}#sk-container-id-1 div.sk-parallel-item:first-child::after {align-self: flex-end;width: 50%;}#sk-container-id-1 div.sk-parallel-item:last-child::after {align-self: flex-start;width: 50%;}#sk-container-id-1 div.sk-parallel-item:only-child::after {width: 0;}#sk-container-id-1 div.sk-dashed-wrapped {border: 1px dashed gray;margin: 0 0.4em 0.5em 0.4em;box-sizing: border-box;padding-bottom: 0.4em;background-color: white;}#sk-container-id-1 div.sk-label label {font-family: monospace;font-weight: bold;display: inline-block;line-height: 1.2em;}#sk-container-id-1 div.sk-label-container {text-align: center;}#sk-container-id-1 div.sk-container {/* jupyter's `normalize.less` sets `[hidden] { display: none; }` but bootstrap.min.css set `[hidden] { display: none !important; }` so we also need the `!important` here to be able to override the default hidden behavior on the sphinx rendered scikit-learn.org. See: https://github.com/scikit-learn/scikit-learn/issues/21755 */display: inline-block !important;position: relative;}#sk-container-id-1 div.sk-text-repr-fallback {display: none;}</style><div id=\"sk-container-id-1\" class=\"sk-top-container\"><div class=\"sk-text-repr-fallback\"><pre>LinearRegression()</pre><b>In a Jupyter environment, please rerun this cell to show the HTML representation or trust the notebook. <br />On GitHub, the HTML representation is unable to render, please try loading this page with nbviewer.org.</b></div><div class=\"sk-container\" hidden><div class=\"sk-item\"><div class=\"sk-estimator sk-toggleable\"><input class=\"sk-toggleable__control sk-hidden--visually\" id=\"sk-estimator-id-1\" type=\"checkbox\" checked><label for=\"sk-estimator-id-1\" class=\"sk-toggleable__label sk-toggleable__label-arrow\">LinearRegression</label><div class=\"sk-toggleable__content\"><pre>LinearRegression()</pre></div></div></div></div></div>"
      ],
      "text/plain": [
       "LinearRegression()"
      ]
     },
     "execution_count": 8,
     "metadata": {},
     "output_type": "execute_result"
    }
   ],
   "source": [
    "# on entraîne ce modèle sur les données avec la méthode fit\n",
    "reg.fit(X, y)"
   ]
  },
  {
   "cell_type": "code",
   "execution_count": 9,
   "metadata": {
    "colab": {
     "base_uri": "https://localhost:8080/"
    },
    "id": "FWdMSyd4TIPK",
    "outputId": "577218ea-d460-49c8-f828-865df5de7905"
   },
   "outputs": [
    {
     "name": "stdout",
     "output_type": "stream",
     "text": [
      "R^2 : 0.416\n"
     ]
    }
   ],
   "source": [
    "# et on obtient directement un score.\n",
    "print(f\"R^2 : {np.round(reg.score(X, y), 3)}\")"
   ]
  },
  {
   "cell_type": "code",
   "execution_count": 10,
   "metadata": {
    "colab": {
     "base_uri": "https://localhost:8080/"
    },
    "id": "dRGb6y_GT62S",
    "outputId": "d574f230-01e1-46bf-ad5e-e9cdf66ec09f"
   },
   "outputs": [
    {
     "name": "stdout",
     "output_type": "stream",
     "text": [
      " poids = -2.06 * sexe + 0.3 * age  + du bruit\n"
     ]
    }
   ],
   "source": [
    "# ainsi que les coefficients a,b,c de la régression linéaire\n",
    "print(f\" poids = {np.round(reg.coef_[0],  2)} * sexe + {np.round(reg.coef_[1],  2)} * age  + du bruit\")\n"
   ]
  },
  {
   "cell_type": "markdown",
   "metadata": {
    "id": "ddp3pQAeUBIc"
   },
   "source": [
    "Reprenons maintenant l'exercice en  considerant cette fois toutes les variables prédictives disponibles : age, taille et sexe\n",
    "\n",
    "La matrice de prédiction est:"
   ]
  },
  {
   "cell_type": "code",
   "execution_count": 11,
   "metadata": {
    "colab": {
     "base_uri": "https://localhost:8080/"
    },
    "id": "6bfHZe4eT80h",
    "outputId": "911d986e-0c0c-4391-ddb5-5c78911d8503"
   },
   "outputs": [
    {
     "name": "stdout",
     "output_type": "stream",
     "text": [
      "R^2 : 0.631\n",
      "poids = -2.06 * sexe + 0.3 * age +  0.55 * taille + du bruit\n"
     ]
    }
   ],
   "source": [
    "\n",
    "# les variables prédictives\n",
    "X = df[['sexe', 'age', 'taille']]\n",
    "\n",
    "# la variable cible, le poids\n",
    "y = df.poids\n",
    "\n",
    "# entrainons un nouveau modele de regression lineaire\n",
    "reg2 = LinearRegression()\n",
    "reg2.fit(X,y)\n",
    "\n",
    "# le score\n",
    "print(f\"R^2 : {np.round(reg2.score(X, y), 3)}\")\n",
    "# et les coefficients\n",
    "print(f\"poids = {np.round(reg.coef_[0],  2)} * sexe + {np.round(reg.coef_[1],  2)} * age +  {np.round(reg2.coef_[2],  2)} * taille + du bruit\")"
   ]
  },
  {
   "cell_type": "markdown",
   "metadata": {
    "id": "l_bkw76jWKdl"
   },
   "source": [
    "Donc rajouter la variable taille aux variables  sexe et age permet de passer de R^2 = 0.41 a R^2  = 0.63, une nette amélioration !\n"
   ]
  },
  {
   "cell_type": "markdown",
   "metadata": {},
   "source": [
    "### Prédiction du poids pour des nouveaux échantillons\n",
    "\n",
    "Le modèle permet maintenant de prédire la valeur cible (poids) en fonction de nouvelles données d'entrée. \n",
    "\n",
    "Par exemple, quel poids est prédit par la première regression `poids ~ sexe + age` pour un garçon agé de 150 mois ?\n",
    "\n",
    "=> 42.5 kg"
   ]
  },
  {
   "cell_type": "code",
   "execution_count": 13,
   "metadata": {
    "colab": {
     "base_uri": "https://localhost:8080/"
    },
    "id": "jLT4UHXWWJCz",
    "outputId": "8e5ea800-99d5-4d64-dee7-e68f058dcb54"
   },
   "outputs": [
    {
     "name": "stderr",
     "output_type": "stream",
     "text": [
      "/Library/Frameworks/Python.framework/Versions/3.11/lib/python3.11/site-packages/sklearn/base.py:439: UserWarning: X does not have valid feature names, but LinearRegression was fitted with feature names\n",
      "  warnings.warn(\n"
     ]
    },
    {
     "data": {
      "text/plain": [
       "array([42.52765679])"
      ]
     },
     "execution_count": 13,
     "metadata": {},
     "output_type": "execute_result"
    }
   ],
   "source": [
    "# prediction du poids pour un garçon agé de 150 mois\n",
    "reg.predict(np.array([[0, 150]]))"
   ]
  },
  {
   "cell_type": "code",
   "execution_count": null,
   "metadata": {
    "colab": {
     "base_uri": "https://localhost:8080/"
    },
    "id": "YwDBuFd7Ul5R",
    "outputId": "2b94bcfb-6d7c-4911-85a4-80a3ea1120aa"
   },
   "outputs": [
    {
     "name": "stderr",
     "output_type": "stream",
     "text": [
      "/usr/local/lib/python3.10/dist-packages/sklearn/base.py:439: UserWarning: X does not have valid feature names, but LinearRegression was fitted with feature names\n",
      "  warnings.warn(\n"
     ]
    },
    {
     "data": {
      "text/plain": [
       "array([52.14955185])"
      ]
     },
     "execution_count": 70,
     "metadata": {},
     "output_type": "execute_result"
    }
   ],
   "source": [
    "# prediction du poids pour un garçon agé de 150 mois et de taille 170 cm\n",
    "reg2.predict(np.array([[0, 150, 170]]))\n"
   ]
  },
  {
   "cell_type": "markdown",
   "metadata": {
    "id": "4ge9kiTXrNnd"
   },
   "source": [
    "### Performance du modèle\n",
    "Regardons maintenant les performances du modèle en utilisant d'autres scores"
   ]
  },
  {
   "cell_type": "code",
   "execution_count": 18,
   "metadata": {
    "colab": {
     "base_uri": "https://localhost:8080/"
    },
    "id": "-AEz-HlrrX5M",
    "outputId": "3951e41a-52f4-4a2e-a99a-a7b81d0c0f5a"
   },
   "outputs": [
    {
     "name": "stdout",
     "output_type": "stream",
     "text": [
      "1er Modele: poids ~ sexe + age\n",
      "\tmean_squared_error(y, y_pred): 45.174708145075236\n",
      "\tmean_absolute_error(y, y_pred): 5.219181502513357\n",
      "\tmean_absolute_percentage_error(y, y_pred): 0.11643376955710256\n",
      "\n",
      "2eme Modele: poids ~ sexe + age + taille\n",
      "\tmean_squared_error(y, y_pred): 28.599112263301482\n",
      "\tmean_absolute_error(y, y_pred): 4.1635921045133335\n",
      "\tmean_absolute_percentage_error(y, y_pred): 0.0905309686187008\n"
     ]
    }
   ],
   "source": [
    "# les predictions sur tout les échantillons du dataset\n",
    "\n",
    "y_pred = reg.predict(df[['sexe', 'age']])\n",
    "y_pred2 = reg2.predict(df[['sexe', 'age', 'taille']])\n",
    "\n",
    "from sklearn.metrics import mean_squared_error, mean_absolute_error, mean_absolute_percentage_error\n",
    "print(\"1er Modele: poids ~ sexe + age\")\n",
    "print(f\"\\tmean_squared_error(y, y_pred): {mean_squared_error(y, y_pred)}\")\n",
    "print(f\"\\tmean_absolute_error(y, y_pred): {mean_absolute_error(y, y_pred)}\")\n",
    "print(f\"\\tmean_absolute_percentage_error(y, y_pred): {mean_absolute_percentage_error(y, y_pred)}\")\n",
    "print()\n",
    "\n",
    "\n",
    "\n",
    "print(\"2eme Modele: poids ~ sexe + age + taille\")\n",
    "print(f\"\\tmean_squared_error(y, y_pred): {mean_squared_error(y, y_pred2)}\")\n",
    "print(f\"\\tmean_absolute_error(y, y_pred): {mean_absolute_error(y, y_pred2)}\")\n",
    "print(f\"\\tmean_absolute_percentage_error(y, y_pred): {mean_absolute_percentage_error(y, y_pred2)}\")\n",
    "\n"
   ]
  },
  {
   "cell_type": "markdown",
   "metadata": {
    "id": "60gPwgBrsvKc"
   },
   "source": [
    "On observe bien que le second modèle est bien meilleur que le premier, quel que soit la métrique de scoring utilisée."
   ]
  },
  {
   "cell_type": "code",
   "execution_count": null,
   "metadata": {
    "id": "f0P4qFZxsAQO"
   },
   "outputs": [],
   "source": []
  }
 ],
 "metadata": {
  "colab": {
   "provenance": []
  },
  "kernelspec": {
   "display_name": "Python 3 (ipykernel)",
   "language": "python",
   "name": "python3"
  },
  "language_info": {
   "codemirror_mode": {
    "name": "ipython",
    "version": 3
   },
   "file_extension": ".py",
   "mimetype": "text/x-python",
   "name": "python",
   "nbconvert_exporter": "python",
   "pygments_lexer": "ipython3",
   "version": "3.11.3"
  }
 },
 "nbformat": 4,
 "nbformat_minor": 4
}
